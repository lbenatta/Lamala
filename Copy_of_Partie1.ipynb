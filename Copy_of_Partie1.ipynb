{
  "cells": [
    {
      "cell_type": "markdown",
      "metadata": {
        "id": "view-in-github",
        "colab_type": "text"
      },
      "source": [
        "<a href=\"https://colab.research.google.com/github/lbenatta/Lamala/blob/master/Copy_of_Partie1.ipynb\" target=\"_parent\"><img src=\"https://colab.research.google.com/assets/colab-badge.svg\" alt=\"Open In Colab\"/></a>"
      ]
    },
    {
      "cell_type": "markdown",
      "id": "4a79cdd3",
      "metadata": {
        "id": "4a79cdd3"
      },
      "source": [
        "# Part 1\n",
        "\n",
        "\n",
        "# Finding words, phrases, names and concepts\n",
        "\n",
        "This part will introduce you to the basics of text processing with spaCy. You'll learn about the data structures, how to work with trained pipelines, and how to use them to predict linguistic features in your text."
      ]
    },
    {
      "cell_type": "markdown",
      "id": "e65bd9cd",
      "metadata": {
        "id": "e65bd9cd"
      },
      "source": [
        "## A. Introduction to spaCy\n",
        "\n",
        "### The nlp object"
      ]
    },
    {
      "cell_type": "code",
      "execution_count": null,
      "id": "5363bca8",
      "metadata": {
        "id": "5363bca8"
      },
      "outputs": [],
      "source": [
        "# Import spaCy\n",
        "import spacy\n",
        "\n",
        "# Create a blank English nlp object\n",
        "nlp = spacy.blank(\"en\")"
      ]
    },
    {
      "cell_type": "markdown",
      "id": "1922183d",
      "metadata": {
        "id": "1922183d"
      },
      "source": [
        "To create an English `nlp` object, you can import `spacy` and use the `spacy.blank` method to create a blank English pipeline. You can use the `nlp` object like a function to analyze text.\n",
        "\n",
        "It contains all the different components in the pipeline.\n",
        "\n",
        "It also includes language-specific rules used for tokenizing the text into words and punctuation. spaCy supports a variety of languages.\n",
        "\n",
        "- contains the processing pipeline\n",
        "- includes language-specific rules for tokenization etc."
      ]
    },
    {
      "cell_type": "markdown",
      "id": "5ab795cf",
      "metadata": {
        "id": "5ab795cf"
      },
      "source": [
        "### The Doc object\n",
        "\n",
        "When you process a text with the `nlp` object, spaCy creates a `Doc` object – short for \"document\". The Doc lets you access information about the text in a structured way, and no information is lost.\n",
        "\n",
        "The Doc behaves like a normal Python sequence by the way and lets you iterate over its tokens, or get a token by its index."
      ]
    },
    {
      "cell_type": "code",
      "execution_count": null,
      "id": "1f5c509a",
      "metadata": {
        "colab": {
          "base_uri": "https://localhost:8080/"
        },
        "id": "1f5c509a",
        "outputId": "30541545-53dc-4154-ce75-e28de2e6f04b"
      },
      "outputs": [
        {
          "output_type": "stream",
          "name": "stdout",
          "text": [
            "Hello\n",
            "world\n",
            "!\n"
          ]
        }
      ],
      "source": [
        "# Created by processing a string of text with the nlp object\n",
        "doc = nlp(\"Hello world!\")\n",
        "\n",
        "# Iterate over tokens in a Doc\n",
        "for token in doc:\n",
        "    print(token.text)"
      ]
    },
    {
      "cell_type": "raw",
      "id": "8d8ab972",
      "metadata": {
        "id": "8d8ab972"
      },
      "source": [
        "OUTPUT:\n",
        "Hello\n",
        "world\n",
        "!"
      ]
    },
    {
      "cell_type": "markdown",
      "id": "30ebcc89",
      "metadata": {
        "id": "30ebcc89"
      },
      "source": [
        "### The Token object\n",
        "\n",
        "`Token` objects represent the tokens in a document – for example, a word or a punctuation character.\n",
        "\n",
        "To get a token at a specific position, you can index into the doc.\n",
        "\n",
        "`Token` objects also provide various attributes that let you access more information about the tokens. For example, the .text attribute returns the verbatim token text.\n",
        "\n",
        "![image.png](attachment:image.png)"
      ]
    },
    {
      "cell_type": "code",
      "execution_count": null,
      "id": "e087f86f",
      "metadata": {
        "colab": {
          "base_uri": "https://localhost:8080/"
        },
        "id": "e087f86f",
        "outputId": "3188c818-6bb0-454f-d4b3-da2bf29d5861"
      },
      "outputs": [
        {
          "output_type": "stream",
          "name": "stdout",
          "text": [
            "world\n"
          ]
        }
      ],
      "source": [
        "doc = nlp(\"Hello world!\")\n",
        "\n",
        "# Index into the Doc to get a single Token\n",
        "token = doc[1]\n",
        "\n",
        "# Get the token text via the .text attribute\n",
        "print(token.text)"
      ]
    },
    {
      "cell_type": "raw",
      "id": "468e07e0",
      "metadata": {
        "id": "468e07e0"
      },
      "source": [
        "OUTPUT:\n",
        "world"
      ]
    },
    {
      "cell_type": "markdown",
      "id": "a9cea951",
      "metadata": {
        "id": "a9cea951"
      },
      "source": [
        "### The Span object\n",
        "\n",
        "A `Span` object is a slice of the document consisting of one or more tokens. It's only a view of the Doc and doesn't contain any data itself.\n",
        "\n",
        "To create a span, you can use Python's slice notation. For example, `1:3` will create a slice starting from the token at position 1, up to – but not including! – the token at position 3.\n",
        "\n",
        "![image.png](attachment:image.png)"
      ]
    },
    {
      "cell_type": "code",
      "execution_count": null,
      "id": "63db4fd5",
      "metadata": {
        "colab": {
          "base_uri": "https://localhost:8080/"
        },
        "id": "63db4fd5",
        "outputId": "b5d08172-4fe0-465e-83dd-7be78db73d47"
      },
      "outputs": [
        {
          "output_type": "stream",
          "name": "stdout",
          "text": [
            "world!\n"
          ]
        }
      ],
      "source": [
        "doc = nlp(\"Hello world!\")\n",
        "\n",
        "# A slice from the Doc is a Span object\n",
        "span = doc[1:3]\n",
        "\n",
        "# Get the span text via the .text attribute\n",
        "print(span.text)"
      ]
    },
    {
      "cell_type": "raw",
      "id": "65aca02b",
      "metadata": {
        "id": "65aca02b"
      },
      "source": [
        "OUTPUT:\n",
        "world!"
      ]
    },
    {
      "cell_type": "markdown",
      "id": "9201d6fe",
      "metadata": {
        "id": "9201d6fe"
      },
      "source": [
        "### Lexical Attributes\n",
        "\n",
        "Here you can see some of the available token attributes:\n",
        "\n",
        "`i` is the index of the token within the parent document.\n",
        "\n",
        "`text` returns the token text.\n",
        "\n",
        "`is_alpha`, `is_punct` and `like_num` return boolean values indicating whether the token consists of alphabetic characters, whether it's punctuation or whether it resembles a number. For example, a token \"10\" – one, zero – or the word \"ten\" – T, E, N.\n",
        "\n",
        "These attributes are also called lexical attributes: they refer to the entry in the vocabulary and don't depend on the token's context."
      ]
    },
    {
      "cell_type": "code",
      "execution_count": null,
      "id": "90182409",
      "metadata": {
        "id": "90182409"
      },
      "outputs": [],
      "source": [
        "doc = nlp(\"It costs $5.\")"
      ]
    },
    {
      "cell_type": "code",
      "execution_count": null,
      "id": "eba1e71a",
      "metadata": {
        "colab": {
          "base_uri": "https://localhost:8080/"
        },
        "id": "eba1e71a",
        "outputId": "c413309c-5758-4936-d9ed-5a3c9ef48ef8"
      },
      "outputs": [
        {
          "output_type": "stream",
          "name": "stdout",
          "text": [
            "Index:    [0, 1, 2, 3, 4]\n",
            "Text:     ['It', 'costs', '$', '5', '.']\n",
            "is_alpha: [True, True, False, False, False]\n",
            "is_punct: [False, False, False, False, True]\n",
            "like_num: [False, False, False, True, False]\n"
          ]
        }
      ],
      "source": [
        "print(\"Index:   \", [token.i for token in doc])\n",
        "print(\"Text:    \", [token.text for token in doc])\n",
        "\n",
        "print(\"is_alpha:\", [token.is_alpha for token in doc])\n",
        "print(\"is_punct:\", [token.is_punct for token in doc])\n",
        "print(\"like_num:\", [token.like_num for token in doc])"
      ]
    },
    {
      "cell_type": "raw",
      "id": "7fbf7482",
      "metadata": {
        "id": "7fbf7482"
      },
      "source": [
        "OUTPUT:\n",
        "Index:    [0, 1, 2, 3, 4]\n",
        "Text:     ['It', 'costs', '$', '5', '.']\n",
        "\n",
        "is_alpha: [True, True, False, False, False]\n",
        "is_punct: [False, False, False, False, True]\n",
        "like_num: [False, False, False, True, False]"
      ]
    },
    {
      "cell_type": "markdown",
      "id": "a1b0fbdb",
      "metadata": {
        "id": "a1b0fbdb"
      },
      "source": [
        "## B. Getting Started\n",
        "\n",
        "Let’s get it started !\n",
        "\n",
        "#### Part 1: English\n",
        "\n",
        "- Use ```spacy.blank``` to create a blank English (```\"en\"```) ```nlp``` object.\n",
        "- Create a ```doc``` and print its text."
      ]
    },
    {
      "cell_type": "code",
      "execution_count": null,
      "id": "857ad3dc",
      "metadata": {
        "colab": {
          "base_uri": "https://localhost:8080/"
        },
        "id": "857ad3dc",
        "outputId": "55a2427a-f122-4ae1-8161-dc4d6d520c83"
      },
      "outputs": [
        {
          "output_type": "stream",
          "name": "stdout",
          "text": [
            "world\n"
          ]
        }
      ],
      "source": [
        "# Import spaCy\n",
        "import spacy\n",
        "\n",
        "# Create the English nlp object\n",
        "nlp = spacy.blank(\"en\")\n",
        "\n",
        "# Process a text\n",
        "doc = nlp(\"This is a sentence.\")\n",
        "\n",
        "# Print the document text\n",
        "print(token.text)"
      ]
    },
    {
      "cell_type": "markdown",
      "id": "1d372531",
      "metadata": {
        "id": "1d372531"
      },
      "source": [
        "#### Part 2: German\n",
        "\n",
        "- Use ```spacy.blank``` to create a blank German (```\"de\"```) ```nlp``` object.\n",
        "- Create a ```doc``` and print its text."
      ]
    },
    {
      "cell_type": "code",
      "execution_count": null,
      "id": "ef7e6a74",
      "metadata": {
        "colab": {
          "base_uri": "https://localhost:8080/"
        },
        "id": "ef7e6a74",
        "outputId": "7dd115f6-2162-4067-bd70-8d3356f1d5b3"
      },
      "outputs": [
        {
          "output_type": "stream",
          "name": "stdout",
          "text": [
            "world\n"
          ]
        }
      ],
      "source": [
        "# Import spaCy\n",
        "import spacy\n",
        "\n",
        "# Create the German nlp object\n",
        "nlp = spacy.blank(\"de\")\n",
        "\n",
        "# Process a text (this is German for: \"Kind regards!\")\n",
        "doc = nlp(\"Liebe Grüße!\")\n",
        "\n",
        "# Print the document text\n",
        "print(token.text)"
      ]
    },
    {
      "cell_type": "markdown",
      "id": "22528f08",
      "metadata": {
        "id": "22528f08"
      },
      "source": [
        "#### Part 3: Spanish\n",
        "\n",
        "- Use ```spacy.blank``` to create a blank Spanish (```\"es\"```) ```nlp``` object.\n",
        "- Create a ```doc``` and print its text."
      ]
    },
    {
      "cell_type": "code",
      "execution_count": null,
      "id": "090c83a0",
      "metadata": {
        "colab": {
          "base_uri": "https://localhost:8080/"
        },
        "id": "090c83a0",
        "outputId": "415d5f05-3a49-437d-9842-3c6d40ee759d"
      },
      "outputs": [
        {
          "output_type": "stream",
          "name": "stdout",
          "text": [
            "world\n"
          ]
        }
      ],
      "source": [
        "# Import spaCy\n",
        "import spacy\n",
        "\n",
        "# Create the Spanish nlp object\n",
        "nlp = spacy.blank(\"es\")\n",
        "\n",
        "# Process a text (this is Spanish for: \"How are you?\")\n",
        "doc = nlp(\"¿Cómo estás?\")\n",
        "\n",
        "# Print the document text\n",
        "print(token.text)"
      ]
    },
    {
      "cell_type": "markdown",
      "id": "0708ef7d",
      "metadata": {
        "id": "0708ef7d"
      },
      "source": [
        "\n",
        "## C. Documents, spans and tokens\n",
        "\n",
        "When you call ```nlp``` on a string, spaCy first tokenizes the text and creates a document object.\n",
        "In this exercise, you’ll learn more about the ```Doc```, as well as its views ```Token``` and ```Span```.\n"
      ]
    },
    {
      "cell_type": "markdown",
      "id": "e5874cb9",
      "metadata": {
        "id": "e5874cb9"
      },
      "source": [
        "#### Step 1\n",
        "\n",
        "- Use ```spacy.blank``` to create the English ```nlp``` object.\n",
        "- Process the text and instantiate a ```Doc``` object in the variable ```doc```.\n",
        "- Select the first token of the ```Doc``` and print its ```text```.\n"
      ]
    },
    {
      "cell_type": "code",
      "execution_count": null,
      "id": "041d5cac",
      "metadata": {
        "colab": {
          "base_uri": "https://localhost:8080/"
        },
        "id": "041d5cac",
        "outputId": "1b8a0db2-3f2b-406a-f3b6-c0f274bd192b"
      },
      "outputs": [
        {
          "output_type": "stream",
          "name": "stdout",
          "text": [
            "I\n"
          ]
        }
      ],
      "source": [
        "# Import spaCy and create the English nlp object\n",
        "import spacy\n",
        "\n",
        "nlp = spacy.blank(\"en\")\n",
        "\n",
        "# Process the text\n",
        "doc = nlp(\"I like tree kangaroos and narwhals.\")\n",
        "\n",
        "# Select the first token\n",
        "first_token = doc[0]\n",
        "\n",
        "# Print the first token's text\n",
        "print(first_token.text)"
      ]
    },
    {
      "cell_type": "markdown",
      "id": "170b6e00",
      "metadata": {
        "id": "170b6e00"
      },
      "source": [
        "#### Step 2\n",
        "\n",
        "- Use ```spacy.blank``` to create the English ```nlp``` object.\n",
        "- Process the text and instantiate a ```Doc``` object in the variable ```doc```.\n",
        "- Create a slice of the ```Doc``` for the tokens “tree kangaroos” and “tree kangaroos and narwhals”.\n"
      ]
    },
    {
      "cell_type": "code",
      "execution_count": null,
      "id": "a66f7160",
      "metadata": {
        "colab": {
          "base_uri": "https://localhost:8080/"
        },
        "id": "a66f7160",
        "outputId": "c05bba06-097a-41e0-ad4a-2f7927da37e0"
      },
      "outputs": [
        {
          "output_type": "stream",
          "name": "stdout",
          "text": [
            "tree kangaroos\n",
            "tree kangaroos and narwhals.\n"
          ]
        }
      ],
      "source": [
        "# Import spaCy and create the English nlp object\n",
        "import spacy\n",
        "\n",
        "nlp = spacy.blank(\"en\")\n",
        "\n",
        "# Process the text\n",
        "doc = nlp(\"I like tree kangaroos and narwhals.\")\n",
        "\n",
        "# A slice of the Doc for \"tree kangaroos\"\n",
        "tree_kangaroos = doc[2 : 4]\n",
        "print(tree_kangaroos.text)\n",
        "\n",
        "# A slice of the Doc for \"tree kangaroos and narwhals\" (without the \".\")\n",
        "tree_kangaroos_and_narwhals = doc[2 : 7]\n",
        "print(tree_kangaroos_and_narwhals.text)"
      ]
    },
    {
      "cell_type": "markdown",
      "id": "224e5bd0",
      "metadata": {
        "id": "224e5bd0"
      },
      "source": [
        " \n",
        "  "
      ]
    },
    {
      "cell_type": "markdown",
      "id": "d4f9aad1",
      "metadata": {
        "id": "d4f9aad1"
      },
      "source": [
        "\n",
        "## D. Lexical attributes\n",
        "\n",
        "In this example, you’ll use spaCy’s ```Doc``` and ```Token``` objects, and lexical attributes to find percentages in a text. You’ll be looking for two subsequent tokens: a number and a percent sign.\n",
        "\n",
        "- Use the ```like_num``` token attribute to check whether a token in the ```doc``` resembles a number.\n",
        "- Get the token *following* the current token in the document. The index of the next token in the ```doc``` is ```token.i + 1```.\n",
        "- Check whether the next token’s ```text``` attribute is a percent sign ”%“.\n"
      ]
    },
    {
      "cell_type": "code",
      "execution_count": null,
      "id": "b91ed655",
      "metadata": {
        "colab": {
          "base_uri": "https://localhost:8080/",
          "height": 132
        },
        "id": "b91ed655",
        "outputId": "5ebfeac9-93bd-430a-aa35-97487c46f68b"
      },
      "outputs": [
        {
          "output_type": "error",
          "ename": "SyntaxError",
          "evalue": "ignored",
          "traceback": [
            "\u001b[0;36m  File \u001b[0;32m\"<ipython-input-71-21ccb9ea9e08>\"\u001b[0;36m, line \u001b[0;32m14\u001b[0m\n\u001b[0;31m    if token = [0, 1, 2 , 3 , 9] :\u001b[0m\n\u001b[0m             ^\u001b[0m\n\u001b[0;31mSyntaxError\u001b[0m\u001b[0;31m:\u001b[0m invalid syntax\n"
          ]
        }
      ],
      "source": [
        "import spacy\n",
        "\n",
        "nlp = sc\n",
        "\n",
        "# Process the text\n",
        "doc = nlp(\n",
        "    \"In 1990, more than 60% of people in East Asia were in extreme poverty. \"\n",
        "    \"Now less than 4% are.\"\n",
        ")\n",
        "\n",
        "# Iterate over the tokens in the doc\n",
        "for token in doc:\n",
        "    # Check if the token resembles a number\n",
        "    if token = [0, 1, 2 , 3 , 9] :\n",
        "        # Get the next token in the document\n",
        "        next_token.i = doc[token.i + 1]\n",
        "        # Check if the next token's text equals \"%\"\n",
        "        if next_token.1 == \"%\":\n",
        "            print(\"Percentage found:\", token.text)"
      ]
    },
    {
      "cell_type": "markdown",
      "id": "3b780313",
      "metadata": {
        "id": "3b780313"
      },
      "source": [
        " \n",
        "  "
      ]
    },
    {
      "cell_type": "markdown",
      "id": "694cf23f",
      "metadata": {
        "id": "694cf23f"
      },
      "source": [
        "\n",
        "## E. Trained pipelines\n",
        "\n",
        "### What are trained pipelines?\n",
        "\n",
        "Some of the most interesting things you can analyze are context-specific: for example, whether a word is a verb or whether a span of text is a person name.\n",
        "\n",
        "Trained pipeline components have statistical models that enable spaCy to make predictions in context. This usually includes part-of speech tags, syntactic dependencies and named entities.\n",
        "\n",
        "Pipelines are trained on large datasets of labeled example texts.\n",
        "\n",
        "They can be updated with more examples to fine-tune their predictions – for example, to perform better on your specific data.\n",
        "\n",
        "- Models that enable spaCy to predict linguistic attributes *in context*\n",
        "    - Part-of-speech tags\n",
        "    - Syntactic dependencies\n",
        "    - Named entities\n",
        "\n",
        "- Trained on labeled example texts\n",
        "- Can be updated with more examples to fine-tune predictions\n",
        "\n",
        "### Pipeline Packages\n",
        "\n",
        "The `spacy.load` method loads a pipeline package by name and returns an `nlp` object.\n",
        "\n",
        "The package provides the binary weights that enable spaCy to make predictions.\n",
        "\n",
        "It also includes the vocabulary, meta information about the pipeline and the configuration file used to train it. It tells spaCy which language class to use and how to configure the processing pipeline."
      ]
    },
    {
      "cell_type": "code",
      "execution_count": null,
      "id": "642e5090",
      "metadata": {
        "colab": {
          "base_uri": "https://localhost:8080/"
        },
        "id": "642e5090",
        "outputId": "0b78d90c-efa2-4890-804d-3acb829a519d"
      },
      "outputs": [
        {
          "output_type": "stream",
          "name": "stdout",
          "text": [
            "Collecting en_core_web_sm==2.2.5\n",
            "  Downloading https://github.com/explosion/spacy-models/releases/download/en_core_web_sm-2.2.5/en_core_web_sm-2.2.5.tar.gz (12.0 MB)\n",
            "\u001b[K     |████████████████████████████████| 12.0 MB 5.5 MB/s \n",
            "\u001b[?25hRequirement already satisfied: spacy>=2.2.2 in /usr/local/lib/python3.7/dist-packages (from en_core_web_sm==2.2.5) (2.2.4)\n",
            "Requirement already satisfied: thinc==7.4.0 in /usr/local/lib/python3.7/dist-packages (from spacy>=2.2.2->en_core_web_sm==2.2.5) (7.4.0)\n",
            "Requirement already satisfied: preshed<3.1.0,>=3.0.2 in /usr/local/lib/python3.7/dist-packages (from spacy>=2.2.2->en_core_web_sm==2.2.5) (3.0.6)\n",
            "Requirement already satisfied: srsly<1.1.0,>=1.0.2 in /usr/local/lib/python3.7/dist-packages (from spacy>=2.2.2->en_core_web_sm==2.2.5) (1.0.5)\n",
            "Requirement already satisfied: wasabi<1.1.0,>=0.4.0 in /usr/local/lib/python3.7/dist-packages (from spacy>=2.2.2->en_core_web_sm==2.2.5) (0.9.0)\n",
            "Requirement already satisfied: plac<1.2.0,>=0.9.6 in /usr/local/lib/python3.7/dist-packages (from spacy>=2.2.2->en_core_web_sm==2.2.5) (1.1.3)\n",
            "Requirement already satisfied: cymem<2.1.0,>=2.0.2 in /usr/local/lib/python3.7/dist-packages (from spacy>=2.2.2->en_core_web_sm==2.2.5) (2.0.6)\n",
            "Requirement already satisfied: requests<3.0.0,>=2.13.0 in /usr/local/lib/python3.7/dist-packages (from spacy>=2.2.2->en_core_web_sm==2.2.5) (2.23.0)\n",
            "Requirement already satisfied: numpy>=1.15.0 in /usr/local/lib/python3.7/dist-packages (from spacy>=2.2.2->en_core_web_sm==2.2.5) (1.19.5)\n",
            "Requirement already satisfied: catalogue<1.1.0,>=0.0.7 in /usr/local/lib/python3.7/dist-packages (from spacy>=2.2.2->en_core_web_sm==2.2.5) (1.0.0)\n",
            "Requirement already satisfied: tqdm<5.0.0,>=4.38.0 in /usr/local/lib/python3.7/dist-packages (from spacy>=2.2.2->en_core_web_sm==2.2.5) (4.62.3)\n",
            "Requirement already satisfied: blis<0.5.0,>=0.4.0 in /usr/local/lib/python3.7/dist-packages (from spacy>=2.2.2->en_core_web_sm==2.2.5) (0.4.1)\n",
            "Requirement already satisfied: murmurhash<1.1.0,>=0.28.0 in /usr/local/lib/python3.7/dist-packages (from spacy>=2.2.2->en_core_web_sm==2.2.5) (1.0.6)\n",
            "Requirement already satisfied: setuptools in /usr/local/lib/python3.7/dist-packages (from spacy>=2.2.2->en_core_web_sm==2.2.5) (57.4.0)\n",
            "Requirement already satisfied: importlib-metadata>=0.20 in /usr/local/lib/python3.7/dist-packages (from catalogue<1.1.0,>=0.0.7->spacy>=2.2.2->en_core_web_sm==2.2.5) (4.10.1)\n",
            "Requirement already satisfied: zipp>=0.5 in /usr/local/lib/python3.7/dist-packages (from importlib-metadata>=0.20->catalogue<1.1.0,>=0.0.7->spacy>=2.2.2->en_core_web_sm==2.2.5) (3.7.0)\n",
            "Requirement already satisfied: typing-extensions>=3.6.4 in /usr/local/lib/python3.7/dist-packages (from importlib-metadata>=0.20->catalogue<1.1.0,>=0.0.7->spacy>=2.2.2->en_core_web_sm==2.2.5) (3.10.0.2)\n",
            "Requirement already satisfied: chardet<4,>=3.0.2 in /usr/local/lib/python3.7/dist-packages (from requests<3.0.0,>=2.13.0->spacy>=2.2.2->en_core_web_sm==2.2.5) (3.0.4)\n",
            "Requirement already satisfied: certifi>=2017.4.17 in /usr/local/lib/python3.7/dist-packages (from requests<3.0.0,>=2.13.0->spacy>=2.2.2->en_core_web_sm==2.2.5) (2021.10.8)\n",
            "Requirement already satisfied: urllib3!=1.25.0,!=1.25.1,<1.26,>=1.21.1 in /usr/local/lib/python3.7/dist-packages (from requests<3.0.0,>=2.13.0->spacy>=2.2.2->en_core_web_sm==2.2.5) (1.24.3)\n",
            "Requirement already satisfied: idna<3,>=2.5 in /usr/local/lib/python3.7/dist-packages (from requests<3.0.0,>=2.13.0->spacy>=2.2.2->en_core_web_sm==2.2.5) (2.10)\n",
            "\u001b[38;5;2m✔ Download and installation successful\u001b[0m\n",
            "You can now load the model via spacy.load('en_core_web_sm')\n"
          ]
        }
      ],
      "source": [
        "! python -m spacy download en_core_web_sm"
      ]
    },
    {
      "cell_type": "code",
      "execution_count": null,
      "id": "b71943a6",
      "metadata": {
        "id": "b71943a6"
      },
      "outputs": [],
      "source": [
        "import spacy\n",
        "\n",
        "nlp = spacy.load(\"en_core_web_sm\")"
      ]
    },
    {
      "cell_type": "markdown",
      "id": "1c07784a",
      "metadata": {
        "id": "1c07784a"
      },
      "source": [
        "- Binary weights\n",
        "- Vocabulary\n",
        "- Meta information\n",
        "- Configuration file"
      ]
    },
    {
      "cell_type": "markdown",
      "id": "fe510965",
      "metadata": {
        "id": "fe510965"
      },
      "source": [
        " ### Predicting Part-of-speech Tags\n",
        " \n",
        "In this example, we're using spaCy to predict part-of-speech tags, the word types in context.\n",
        "\n",
        "First, we load the small English pipeline and receive an `nlp` object.\n",
        "\n",
        "Next, we're processing the text \"She ate the pizza\".\n",
        "\n",
        "For each token in the doc, we can print the text and the `.pos_` attribute, the predicted part-of-speech tag.\n",
        "\n",
        "Here, the model correctly predicted \"ate\" as a verb and \"pizza\" as a noun."
      ]
    },
    {
      "cell_type": "code",
      "execution_count": null,
      "id": "16297bcf",
      "metadata": {
        "id": "16297bcf"
      },
      "outputs": [],
      "source": [
        "import spacy\n",
        "\n",
        "# Load the small English pipeline\n",
        "nlp = spacy.load(\"en_core_web_sm\")\n",
        "\n",
        "# Process a text\n",
        "doc = nlp(\"She ate the pizza\")\n",
        "\n",
        "# Iterate over the tokens\n",
        "for token in doc:\n",
        "    # Print the text and the predicted part-of-speech tag\n",
        "    print(token.text, token.pos_)"
      ]
    },
    {
      "cell_type": "raw",
      "id": "74137fbe",
      "metadata": {
        "id": "74137fbe"
      },
      "source": [
        "OUTPUT:\n",
        "She PRON\n",
        "ate VERB\n",
        "the DET\n",
        "pizza NOUN"
      ]
    },
    {
      "cell_type": "markdown",
      "id": "6989b221",
      "metadata": {
        "id": "6989b221"
      },
      "source": [
        "### Predicting Syntactic Dependencies\n",
        "\n",
        "In addition to the part-of-speech tags, we can also predict how the words are related. For example, whether a word is the subject of the sentence or an object.\n",
        "\n",
        "The `.dep_` attribute returns the predicted dependency label.\n",
        "\n",
        "The `.head` attribute returns the syntactic head token. You can also think of it as the parent token this word is attached to."
      ]
    },
    {
      "cell_type": "code",
      "execution_count": null,
      "id": "a3f0fba2",
      "metadata": {
        "id": "a3f0fba2"
      },
      "outputs": [],
      "source": [
        "for token in doc:\n",
        "    print(token.text, token.pos_, token.dep_, token.head.text)"
      ]
    },
    {
      "cell_type": "raw",
      "id": "22ae8109",
      "metadata": {
        "id": "22ae8109"
      },
      "source": [
        "OUTPUT:\n",
        "She PRON nsubj ate\n",
        "ate VERB ROOT ate\n",
        "the DET det pizza\n",
        "pizza NOUN dobj ate"
      ]
    },
    {
      "cell_type": "markdown",
      "id": "7b736a12",
      "metadata": {
        "id": "7b736a12"
      },
      "source": [
        "### Dependency label scheme\n",
        "\n",
        "Here's an example of some common labels:\n",
        "\n",
        "The pronoun \"She\" is a nominal subject attached to the verb – in this case, to \"ate\".\n",
        "\n",
        "The noun \"pizza\" is a direct object attached to the verb \"ate\". It is eaten by the subject, \"she\".\n",
        "\n",
        "The determiner \"the\", also known as an article, is attached to the noun \"pizza\".\n",
        "\n",
        "![image.png](attachment:image.png)\n",
        "\n",
        "### Predicting Named Entities\n",
        "\n",
        "Named entities are \"real world objects\" that are assigned a name – for example, a person, an organization or a country.\n",
        "\n",
        "The `doc.ents` property lets you access the named entities predicted by the named entity recognition model.\n",
        "\n",
        "It returns an iterator of `Span` objects, so we can print the entity text and the entity label using the `.label_` attribute.\n",
        "\n",
        "In this case, the model is correctly predicting \"Apple\" as an organization, \"U.K.\" as a geopolitical entity and \"$1 billion\" as money.\n",
        "\n",
        "![image-2.png](attachment:image-2.png)"
      ]
    },
    {
      "cell_type": "code",
      "execution_count": null,
      "id": "f2f30c7d",
      "metadata": {
        "id": "f2f30c7d"
      },
      "outputs": [],
      "source": [
        "# Process a text\n",
        "doc = nlp(\"Apple is looking at buying U.K. startup for $1 billion\")\n",
        "\n",
        "# Iterate over the predicted entities\n",
        "for ent in doc.ents:\n",
        "    # Print the entity text and its label\n",
        "    print(ent.text, ent.label_)"
      ]
    },
    {
      "cell_type": "raw",
      "id": "2cb9c411",
      "metadata": {
        "id": "2cb9c411"
      },
      "source": [
        "OUTPUT:\n",
        "Apple ORG\n",
        "U.K. GPE\n",
        "$1 billion MONEY"
      ]
    },
    {
      "cell_type": "markdown",
      "id": "9615dbd3",
      "metadata": {
        "id": "9615dbd3"
      },
      "source": [
        "\n",
        "## F. Loading pipelines\n",
        "\n",
        "- Use ```spacy.load``` to load the small English pipeline ```\"en_core_web_sm\"```.\n",
        "- Process the text and print the document text.\n"
      ]
    },
    {
      "cell_type": "code",
      "execution_count": null,
      "id": "8a322e94",
      "metadata": {
        "colab": {
          "base_uri": "https://localhost:8080/"
        },
        "id": "8a322e94",
        "outputId": "39e3c338-ebad-4436-ac1d-f1139966f5cd"
      },
      "outputs": [
        {
          "output_type": "stream",
          "name": "stdout",
          "text": [
            "It’s official: Apple is the first U.S. public company to reach a $1 trillion market value\n"
          ]
        }
      ],
      "source": [
        "import spacy\n",
        "\n",
        "# Load the \"en_core_web_sm\" pipeline\n",
        "nlp = spacy.load(\"en_core_web_sm\")\n",
        "\n",
        "text = \"It’s official: Apple is the first U.S. public company to reach a $1 trillion market value\"\n",
        "\n",
        "# Process the text\n",
        "doc = nlp(text)\n",
        "\n",
        "# Print the document text\n",
        "print(text)"
      ]
    },
    {
      "cell_type": "markdown",
      "id": "0a8654a1",
      "metadata": {
        "id": "0a8654a1"
      },
      "source": [
        " \n",
        " "
      ]
    },
    {
      "cell_type": "markdown",
      "id": "c59688a4",
      "metadata": {
        "id": "c59688a4"
      },
      "source": [
        "\n",
        "## G. Predicting linguistic annotations\n",
        "\n",
        "You’ll now get to try one of spaCy’s trained pipeline packages and see its predictions in action. \n",
        "Feel free to try it out on your own text!\n"
      ]
    },
    {
      "cell_type": "markdown",
      "id": "6a5c925c",
      "metadata": {
        "id": "6a5c925c"
      },
      "source": [
        "#### Part 1\n",
        "\n",
        "- Process the text with the ```nlp``` object and create a ```doc```.\n",
        "- For each token, print the token text, the token’s ```.pos_``` (part-of-speech tag) and the token’s ```.dep_``` (dependency label)."
      ]
    },
    {
      "cell_type": "code",
      "execution_count": null,
      "id": "5f624d81",
      "metadata": {
        "colab": {
          "base_uri": "https://localhost:8080/",
          "height": 202
        },
        "id": "5f624d81",
        "outputId": "901211e7-487f-4bb0-951f-d44ee37e7bdc"
      },
      "outputs": [
        {
          "output_type": "error",
          "ename": "TypeError",
          "evalue": "ignored",
          "traceback": [
            "\u001b[0;31m---------------------------------------------------------------------------\u001b[0m",
            "\u001b[0;31mTypeError\u001b[0m                                 Traceback (most recent call last)",
            "\u001b[0;32m<ipython-input-88-8f4970141e08>\u001b[0m in \u001b[0;36m<module>\u001b[0;34m()\u001b[0m\n\u001b[1;32m     14\u001b[0m     \u001b[0mtoken_dep\u001b[0m \u001b[0;34m=\u001b[0m \u001b[0mdoc\u001b[0m \u001b[0;34m[\u001b[0m\u001b[0;36m24\u001b[0m \u001b[0;34m:\u001b[0m \u001b[0;36m34\u001b[0m\u001b[0;34m]\u001b[0m\u001b[0;34m\u001b[0m\u001b[0;34m\u001b[0m\u001b[0m\n\u001b[1;32m     15\u001b[0m     \u001b[0;31m# This is for formatting only\u001b[0m\u001b[0;34m\u001b[0m\u001b[0;34m\u001b[0m\u001b[0;34m\u001b[0m\u001b[0m\n\u001b[0;32m---> 16\u001b[0;31m     \u001b[0mprint\u001b[0m\u001b[0;34m(\u001b[0m\u001b[0;34mf\"{token_text:<12}{token_pos:<10}{token_dep:<10}\"\u001b[0m\u001b[0;34m)\u001b[0m\u001b[0;34m\u001b[0m\u001b[0;34m\u001b[0m\u001b[0m\n\u001b[0m",
            "\u001b[0;31mTypeError\u001b[0m: unsupported format string passed to spacy.tokens.span.Span.__format__"
          ]
        }
      ],
      "source": [
        "import spacy\n",
        "\n",
        "nlp = spacy.load(\"en_core_web_sm\")\n",
        "\n",
        "text = \"It’s official: Apple is the first U.S. public company to reach a $1 trillion market value\"\n",
        "\n",
        "# Process the text\n",
        "doc = nlp(text)\n",
        "\n",
        "for token in doc:\n",
        "    # Get the token text, part-of-speech tag and dependency label\n",
        "    token_text = doc [0 : 12]\n",
        "    token_pos = doc [13 : 23]\n",
        "    token_dep = doc [24 : 34]\n",
        "    # This is for formatting only\n",
        "    print(f\"{token_text:<12}{token_pos:<10}{token_dep:<10}\")"
      ]
    },
    {
      "cell_type": "markdown",
      "id": "49dbe121",
      "metadata": {
        "id": "49dbe121"
      },
      "source": [
        "#### Part 2\n",
        "\n",
        "- Process the text and create a ```doc``` object.\n",
        "- Iterate over the ```doc.ents``` and print the entity text and ```label_``` attribute.\n"
      ]
    },
    {
      "cell_type": "code",
      "execution_count": null,
      "id": "dd8a6d68",
      "metadata": {
        "colab": {
          "base_uri": "https://localhost:8080/"
        },
        "id": "dd8a6d68",
        "outputId": "3e3cfa09-41b1-4db8-d551-2955793e2c85"
      },
      "outputs": [
        {
          "output_type": "stream",
          "name": "stdout",
          "text": [
            "Apple 15 20 ORG\n",
            "first 28 33 ORDINAL\n",
            "U.S. 34 38 GPE\n",
            "$1 trillion 65 76 MONEY\n"
          ]
        }
      ],
      "source": [
        "import spacy\n",
        "\n",
        "nlp = spacy.load(\"en_core_web_sm\")\n",
        "\n",
        "text = \"It’s official: Apple is the first U.S. public company to reach a $1 trillion market value\"\n",
        "\n",
        "# Process the text\n",
        "doc = nlp(text)\n",
        "\n",
        "# Iterate over the predicted entities\n",
        "for ent in doc.ents:\n",
        "    # Print the entity text and its label\n",
        "    print(ent.text, ent.start_char, ent.end_char, ent.label_)"
      ]
    },
    {
      "cell_type": "markdown",
      "id": "0ea22016",
      "metadata": {
        "id": "0ea22016"
      },
      "source": [
        "## H. Predicting named entities in context\n",
        "\n",
        "Models are statistical and not *always* right. Whether their predictions are correct depends on the training data and the text you’re processing. Let’s take a look at an example.\n",
        "\n",
        "- Process the text with the ```nlp``` object.\n",
        "- Iterate over the entities and print the entity text and label.\n",
        "- Looks like the model didn’t predict “iPhone X”. Create a span for those tokens manually.\n"
      ]
    },
    {
      "cell_type": "code",
      "execution_count": null,
      "id": "56caa7ab",
      "metadata": {
        "colab": {
          "base_uri": "https://localhost:8080/",
          "height": 254
        },
        "id": "56caa7ab",
        "outputId": "ffaba6cb-6ae7-49b9-df36-88e79b23cbf9"
      },
      "outputs": [
        {
          "output_type": "stream",
          "name": "stdout",
          "text": [
            "Apple 41 46 ORG\n"
          ]
        },
        {
          "output_type": "error",
          "ename": "AttributeError",
          "evalue": "ignored",
          "traceback": [
            "\u001b[0;31m---------------------------------------------------------------------------\u001b[0m",
            "\u001b[0;31mAttributeError\u001b[0m                            Traceback (most recent call last)",
            "\u001b[0;32m<ipython-input-102-5b3311209f39>\u001b[0m in \u001b[0;36m<module>\u001b[0;34m()\u001b[0m\n\u001b[1;32m     15\u001b[0m \u001b[0;31m# Get the span for \"iPhone X\"\u001b[0m\u001b[0;34m\u001b[0m\u001b[0;34m\u001b[0m\u001b[0;34m\u001b[0m\u001b[0m\n\u001b[1;32m     16\u001b[0m \u001b[0;31m#iphone_x = doc.Span\u001b[0m\u001b[0;34m\u001b[0m\u001b[0;34m\u001b[0m\u001b[0;34m\u001b[0m\u001b[0m\n\u001b[0;32m---> 17\u001b[0;31m \u001b[0mdoc\u001b[0m\u001b[0;34m.\u001b[0m\u001b[0mspans\u001b[0m\u001b[0;34m[\u001b[0m\u001b[0;34m'manual_parts'\u001b[0m\u001b[0;34m]\u001b[0m \u001b[0;34m=\u001b[0m \u001b[0;34m[\u001b[0m\u001b[0mdoc\u001b[0m\u001b[0;34m[\u001b[0m\u001b[0;36m1\u001b[0m\u001b[0;34m:\u001b[0m\u001b[0;36m3\u001b[0m\u001b[0;34m]\u001b[0m\u001b[0;34m]\u001b[0m\u001b[0;34m\u001b[0m\u001b[0;34m\u001b[0m\u001b[0m\n\u001b[0m\u001b[1;32m     18\u001b[0m \u001b[0;34m\u001b[0m\u001b[0m\n\u001b[1;32m     19\u001b[0m \u001b[0;31m# Print the span text\u001b[0m\u001b[0;34m\u001b[0m\u001b[0;34m\u001b[0m\u001b[0;34m\u001b[0m\u001b[0m\n",
            "\u001b[0;31mAttributeError\u001b[0m: 'spacy.tokens.doc.Doc' object has no attribute 'spans'"
          ]
        }
      ],
      "source": [
        "import spacy\n",
        "\n",
        "nlp = spacy.load(\"en_core_web_sm\")\n",
        "\n",
        "text = \"Upcoming iPhone X release date leaked as Apple reveals pre-orders\"\n",
        "\n",
        "# Process the text\n",
        "doc = nlp(text)\n",
        "\n",
        "# Iterate over the entities\n",
        "for ent in doc.ents:\n",
        "    # Print the entity text and label\n",
        "    print(ent.text, ent.start_char, ent.end_char, ent.label_)\n",
        "\n",
        "# Get the span for \"iPhone X\"\n",
        "#iphone_x = doc.Span\n",
        "doc.spans['manual_parts'] = [doc[1:3]]\n",
        "\n",
        "# Print the span text\n",
        "print(\"Missing entity:\", iphone_x.text)"
      ]
    },
    {
      "cell_type": "markdown",
      "id": "e5b0a565",
      "metadata": {
        "id": "e5b0a565"
      },
      "source": [
        "## I. Rule-based matching\n",
        "\n",
        "### Why not just regular expressions?\n",
        "\n",
        "Compared to regular expressions, the matcher works with `Doc` and `Token` objects instead of only strings.\n",
        "\n",
        "It's also more flexible: you can search for texts but also other lexical attributes.\n",
        "\n",
        "You can even write rules that use a model's predictions.\n",
        "\n",
        "For example, find the word \"duck\" only if it's a verb, not a noun.\n",
        "\n",
        "- Match on ```Doc``` objects, not just strings\n",
        "- Match on tokens and token attributes\n",
        "- Use a model's predictions\n",
        "- Example: \"duck\" (verb) vs. \"duck\" (noun)\n",
        "\n",
        "### Match patterns\n",
        "\n",
        "Match patterns are lists of dictionaries. Each dictionary describes one token. The keys are the names of token attributes, mapped to their expected values.\n",
        "\n",
        "In this example, we're looking for two tokens with the text \"iPhone\" and \"X\".\n",
        "\n",
        "We can also match on other token attributes. Here, we're looking for two tokens whose lowercase forms equal \"iphone\" and \"x\".\n",
        "\n",
        "We can even write patterns using attributes predicted by a model. Here, we're matching a token with the lemma \"buy\", plus a noun. The lemma is the base form, so this pattern would match phrases like \"buying milk\" or \"bought flowers\".\n",
        "\n",
        "- Lists of dictionaries, one per token\n",
        "- Match exact token texts\n",
        "\n",
        "```[{\"TEXT\": \"iPhone\"}, {\"TEXT\": \"X\"}]```\n",
        "- Match lexical attributes\n",
        "\n",
        "```[{\"LOWER\": \"iphone\"}, {\"LOWER\": \"x\"}]```\n",
        "- Match any token attributes\n",
        "\n",
        "```[{\"LEMMA\": \"acheter\"}, {\"POS\": \"NOUN\"}]```\n",
        "\n",
        "### Using the Matcher (1)\n",
        "\n",
        "To use a pattern, we first import the matcher from `spacy.matcher`.\n",
        "\n",
        "We also load a pipeline and create the `nlp` object.\n",
        "\n",
        "The matcher is initialized with the shared vocabulary, `nlp.vocab`. You'll learn more about this later – for now, just remember to always pass it in.\n",
        "\n",
        "The `matcher.add` method lets you add a pattern. The first argument is a unique ID to identify which pattern was matched. The second argument is a list of patterns.\n",
        "\n",
        "To match the pattern on a text, we can call the matcher on any doc.\n",
        "\n",
        "This will return the matches."
      ]
    },
    {
      "cell_type": "code",
      "execution_count": null,
      "id": "316abed2",
      "metadata": {
        "id": "316abed2"
      },
      "outputs": [],
      "source": [
        "import spacy\n",
        "\n",
        "# Import the Matcher\n",
        "from spacy.matcher import Matcher\n",
        "\n",
        "# Load a pipeline and create the nlp object\n",
        "nlp = spacy.load(\"en_core_web_sm\")\n",
        "\n",
        "# Initialize the matcher with the shared vocab\n",
        "matcher = Matcher(nlp.vocab)\n",
        "\n",
        "# Add the pattern to the matcher\n",
        "pattern = [{\"TEXT\": \"iPhone\"}, {\"TEXT\": \"X\"}]\n",
        "matcher.add(\"IPHONE_PATTERN\", [pattern])\n",
        "\n",
        "# Process some text\n",
        "doc = nlp(\"Upcoming iPhone X release date leaked\")\n",
        "\n",
        "# Call the matcher on the doc\n",
        "matches = matcher(doc)"
      ]
    },
    {
      "cell_type": "markdown",
      "id": "23848038",
      "metadata": {
        "id": "23848038"
      },
      "source": [
        "### Using the Matcher (2)\n",
        "\n",
        "When you call the matcher on a doc, it returns a list of tuples.\n",
        "\n",
        "Each tuple consists of three values: the match ID, the start index and the end index of the matched span.\n",
        "\n",
        "This means we can iterate over the matches and create a `Span` object: a slice of the doc at the start and end index."
      ]
    },
    {
      "cell_type": "code",
      "execution_count": null,
      "id": "719ef151",
      "metadata": {
        "id": "719ef151"
      },
      "outputs": [],
      "source": [
        "# Call the matcher on the doc\n",
        "doc = nlp(\"Upcoming iPhone X release date leaked\")\n",
        "matches = matcher(doc)\n",
        "\n",
        "# Iterate over the matches\n",
        "for match_id, start, end in matches:\n",
        "    # Get the matched span\n",
        "    matched_span = doc[start:end]\n",
        "    print(matched_span.text)"
      ]
    },
    {
      "cell_type": "raw",
      "id": "193b02ba",
      "metadata": {
        "id": "193b02ba"
      },
      "source": [
        "OUTPUT:\n",
        "iPhone X"
      ]
    },
    {
      "cell_type": "markdown",
      "id": "070f8ca0",
      "metadata": {
        "id": "070f8ca0"
      },
      "source": [
        "- ```match_id```: hash value of the pattern name\n",
        "- ```start```: start index of matched span\n",
        "- ```end```: end index of matched span\n",
        "\n",
        "### Matching lexical attributes\n",
        "\n",
        "Here's an example of a more complex pattern using lexical attributes.\n",
        "\n",
        "We're looking for five tokens:\n",
        "\n",
        "A token consisting of only digits.\n",
        "\n",
        "Three case-insensitive tokens for \"fifa\", \"world\" and \"cup\".\n",
        "\n",
        "And a token that consists of punctuation.\n",
        "\n",
        "The pattern matches the tokens \"2018 FIFA World Cup:\""
      ]
    },
    {
      "cell_type": "code",
      "execution_count": null,
      "id": "38503db1",
      "metadata": {
        "id": "38503db1"
      },
      "outputs": [],
      "source": [
        "pattern = [\n",
        "    {\"IS_DIGIT\": True},\n",
        "    {\"LOWER\": \"fifa\"},\n",
        "    {\"LOWER\": \"world\"},\n",
        "    {\"LOWER\": \"cup\"},\n",
        "    {\"IS_PUNCT\": True}\n",
        "]"
      ]
    },
    {
      "cell_type": "code",
      "execution_count": null,
      "id": "c89dc1f0",
      "metadata": {
        "id": "c89dc1f0"
      },
      "outputs": [],
      "source": [
        "doc = nlp(\"2018 FIFA World Cup: France won!\")"
      ]
    },
    {
      "cell_type": "raw",
      "id": "44b093ff",
      "metadata": {
        "id": "44b093ff"
      },
      "source": [
        "OUTPUT:\n",
        "2018 FIFA World Cup:"
      ]
    },
    {
      "cell_type": "markdown",
      "id": "5c5a0fba",
      "metadata": {
        "id": "5c5a0fba"
      },
      "source": [
        "### Matching other token attributes\n",
        "\n",
        "In this example, we're looking for two tokens:\n",
        "\n",
        "A verb with the lemma \"love\", followed by a noun.\n",
        "\n",
        "This pattern will match \"loved dogs\" and \"love cats\"."
      ]
    },
    {
      "cell_type": "code",
      "execution_count": null,
      "id": "35f66b96",
      "metadata": {
        "id": "35f66b96"
      },
      "outputs": [],
      "source": [
        "pattern = [\n",
        "    {\"LEMMA\": \"love\", \"POS\": \"VERB\"},\n",
        "    {\"POS\": \"NOUN\"}\n",
        "]"
      ]
    },
    {
      "cell_type": "code",
      "execution_count": null,
      "id": "3e47fc23",
      "metadata": {
        "id": "3e47fc23"
      },
      "outputs": [],
      "source": [
        "doc = nlp(\"I loved dogs but now I love cats more.\")"
      ]
    },
    {
      "cell_type": "raw",
      "id": "0059d3b0",
      "metadata": {
        "id": "0059d3b0"
      },
      "source": [
        "OUTPUT:\n",
        "loved dogs\n",
        "love cats"
      ]
    },
    {
      "cell_type": "markdown",
      "id": "9f0d2b91",
      "metadata": {
        "id": "9f0d2b91"
      },
      "source": [
        "### Using operators and quantifiers (1)\n",
        "\n",
        "Operators and quantifiers let you define how often a token should be matched. They can be added using the \"OP\" key.\n",
        "\n",
        "Here, the \"?\" operator makes the determiner token optional, so it will match a token with the lemma \"buy\", an optional article and a noun."
      ]
    },
    {
      "cell_type": "code",
      "execution_count": null,
      "id": "2c6bd04b",
      "metadata": {
        "id": "2c6bd04b"
      },
      "outputs": [],
      "source": [
        "pattern = [\n",
        "    {\"LEMMA\": \"buy\"},\n",
        "    {\"POS\": \"DET\", \"OP\": \"?\"},  # optional: match 0 or 1 times\n",
        "    {\"POS\": \"NOUN\"}\n",
        "]"
      ]
    },
    {
      "cell_type": "code",
      "execution_count": null,
      "id": "b3fe2d21",
      "metadata": {
        "id": "b3fe2d21"
      },
      "outputs": [],
      "source": [
        "doc = nlp(\"I bought a smartphone. Now I'm buying apps.\")"
      ]
    },
    {
      "cell_type": "raw",
      "id": "ec15bf91",
      "metadata": {
        "id": "ec15bf91"
      },
      "source": [
        "OUTPUT:\n",
        "bought a smartphone\n",
        "buying apps"
      ]
    },
    {
      "cell_type": "markdown",
      "id": "e48ec782",
      "metadata": {
        "id": "e48ec782"
      },
      "source": [
        "### Using operators and quantifiers (2)\n",
        "\n",
        "\"OP\" can have one of four values:\n",
        "\n",
        "An \"!\" negates the token, so it's matched 0 times.\n",
        "\n",
        "A \"?\" makes the token optional, and matches it 0 or 1 times.\n",
        "\n",
        "A \"+\" matches a token 1 or more times.\n",
        "\n",
        "And finally, an \"*\" matches 0 or more times.\n",
        "\n",
        "Operators can make your patterns a lot more powerful, but they also add more complexity – so use them wisely.\n",
        "\n",
        "![image.png](attachment:image.png)"
      ]
    },
    {
      "cell_type": "markdown",
      "id": "42bd3503",
      "metadata": {
        "id": "42bd3503"
      },
      "source": [
        "## J. Using the Matcher\n",
        "\n",
        "Let’s try spaCy’s rule-based ```Matcher```. You’ll be using the example from the previous exercise and write a pattern that can match the phrase “iPhone X” in the text.\n",
        "\n",
        "- Import the ```Matcher``` from ```spacy.matcher```.\n",
        "- Initialize it with the ```nlp``` object’s shared ```vocab```.\n",
        "- Create a pattern that matches the ```\"TEXT\"``` values of two tokens: ```\"iPhone\"``` and ```\"X\"```.\n",
        "- Use the ```matcher.add``` method to add the pattern to the matcher.\n",
        "- Call the matcher on the ```doc``` and store the result in the variable ```matches```.\n",
        "- Iterate over the matches and get the matched span from the ```start``` to the ```end``` index.\n"
      ]
    },
    {
      "cell_type": "code",
      "execution_count": null,
      "id": "13e35af1",
      "metadata": {
        "id": "13e35af1"
      },
      "outputs": [],
      "source": [
        "import spacy\n",
        "\n",
        "# Import the Matcher\n",
        "from spacy.____ import ____\n",
        "\n",
        "nlp = spacy.load(\"en_core_web_sm\")\n",
        "doc = nlp(\"Upcoming iPhone X release date leaked as Apple reveals pre-orders\")\n",
        "\n",
        "# Initialize the Matcher with the shared vocabulary\n",
        "matcher = ____(____.____)\n",
        "\n",
        "# Create a pattern matching two tokens: \"iPhone\" and \"X\"\n",
        "pattern = [____]\n",
        "\n",
        "# Add the pattern to the matcher\n",
        "____.____(\"IPHONE_X_PATTERN\", ____)\n",
        "\n",
        "# Use the matcher on the doc\n",
        "matches = ____\n",
        "print(\"Matches:\", [doc[start:end].text for match_id, start, end in matches])"
      ]
    },
    {
      "cell_type": "markdown",
      "id": "28988d70",
      "metadata": {
        "id": "28988d70"
      },
      "source": [
        " \n",
        "  "
      ]
    },
    {
      "cell_type": "markdown",
      "id": "56cc360a",
      "metadata": {
        "id": "56cc360a"
      },
      "source": [
        "\n",
        "## K. Writing match patterns\n",
        "\n",
        "In this exercise, you’ll practice writing more complex match patterns using different token attributes and operators."
      ]
    },
    {
      "cell_type": "markdown",
      "id": "61ac6327",
      "metadata": {
        "id": "61ac6327"
      },
      "source": [
        "#### Part 1\n",
        "\n",
        "- Write **one** pattern that only matches mentions of the *full* iOS versions: “iOS 7”, “iOS 11” and “iOS 10”."
      ]
    },
    {
      "cell_type": "code",
      "execution_count": null,
      "id": "baa3c898",
      "metadata": {
        "id": "baa3c898"
      },
      "outputs": [],
      "source": [
        "import spacy\n",
        "from spacy.matcher import Matcher\n",
        "\n",
        "nlp = spacy.load(\"en_core_web_sm\")\n",
        "matcher = Matcher(nlp.vocab)\n",
        "\n",
        "doc = nlp(\n",
        "    \"After making the iOS update you won't notice a radical system-wide \"\n",
        "    \"redesign: nothing like the aesthetic upheaval we got with iOS 7. Most of \"\n",
        "    \"iOS 11's furniture remains the same as in iOS 10. But you will discover \"\n",
        "    \"some tweaks once you delve a little deeper.\"\n",
        ")\n",
        "\n",
        "# Write a pattern for full iOS versions (\"iOS 7\", \"iOS 11\", \"iOS 10\")\n",
        "pattern = [{\"TEXT\": ____}, {\"IS_DIGIT\": ____}]\n",
        "\n",
        "# Add the pattern to the matcher and apply the matcher to the doc\n",
        "matcher.add(\"IOS_VERSION_PATTERN\", [pattern])\n",
        "matches = matcher(doc)\n",
        "print(\"Total matches found:\", len(matches))\n",
        "\n",
        "# Iterate over the matches and print the span text\n",
        "for match_id, start, end in matches:\n",
        "    print(\"Match found:\", doc[start:end].text)"
      ]
    },
    {
      "cell_type": "markdown",
      "id": "b7fa89ef",
      "metadata": {
        "id": "b7fa89ef"
      },
      "source": [
        "#### Part 2\n",
        "\n",
        "- Write **one** pattern that only matches forms of “download” (tokens with the lemma “download”), followed by a token with the part-of-speech tag ```\"PROPN\"``` (proper noun)."
      ]
    },
    {
      "cell_type": "code",
      "execution_count": null,
      "id": "e98cd3a7",
      "metadata": {
        "id": "e98cd3a7"
      },
      "outputs": [],
      "source": [
        "import spacy\n",
        "from spacy.matcher import Matcher\n",
        "\n",
        "nlp = spacy.load(\"en_core_web_sm\")\n",
        "matcher = Matcher(nlp.vocab)\n",
        "\n",
        "doc = nlp(\n",
        "    \"i downloaded Fortnite on my laptop and can't open the game at all. Help? \"\n",
        "    \"so when I was downloading Minecraft, I got the Windows version where it \"\n",
        "    \"is the '.zip' folder and I used the default program to unpack it... do \"\n",
        "    \"I also need to download Winzip?\"\n",
        ")\n",
        "\n",
        "# Write a pattern that matches a form of \"download\" plus proper noun\n",
        "pattern = [{\"LEMMA\": ____}, {\"POS\": ____}]\n",
        "\n",
        "# Add the pattern to the matcher and apply the matcher to the doc\n",
        "matcher.add(\"DOWNLOAD_THINGS_PATTERN\", [pattern])\n",
        "matches = matcher(doc)\n",
        "print(\"Total matches found:\", len(matches))\n",
        "\n",
        "# Iterate over the matches and print the span text\n",
        "for match_id, start, end in matches:\n",
        "    print(\"Match found:\", doc[start:end].text)"
      ]
    },
    {
      "cell_type": "markdown",
      "id": "4cfb9a82",
      "metadata": {
        "id": "4cfb9a82"
      },
      "source": [
        "#### Part 3\n",
        "\n",
        "Write **one** pattern that matches adjectives (```\"ADJ\"```) followed by one or two ```\"NOUN\"```s (one noun and one optional noun)."
      ]
    },
    {
      "cell_type": "code",
      "execution_count": null,
      "id": "73fca44e",
      "metadata": {
        "id": "73fca44e"
      },
      "outputs": [],
      "source": [
        "import spacy\n",
        "from spacy.matcher import Matcher\n",
        "\n",
        "nlp = spacy.load(\"en_core_web_sm\")\n",
        "matcher = Matcher(nlp.vocab)\n",
        "\n",
        "doc = nlp(\n",
        "    \"Features of the app include a beautiful design, smart search, automatic \"\n",
        "    \"labels and optional voice responses.\"\n",
        ")\n",
        "\n",
        "# Write a pattern for adjective plus one or two nouns\n",
        "pattern = [{\"POS\": ____}, {\"POS\": ____}, {\"POS\": ____, \"OP\": ____}]\n",
        "\n",
        "# Add the pattern to the matcher and apply the matcher to the doc\n",
        "matcher.add(\"ADJ_NOUN_PATTERN\", [pattern])\n",
        "matches = matcher(doc)\n",
        "print(\"Total matches found:\", len(matches))\n",
        "\n",
        "# Iterate over the matches and print the span text\n",
        "for match_id, start, end in matches:\n",
        "    print(\"Match found:\", doc[start:end].text)"
      ]
    }
  ],
  "metadata": {
    "kernelspec": {
      "display_name": "Python 3",
      "language": "python",
      "name": "python3"
    },
    "language_info": {
      "codemirror_mode": {
        "name": "ipython",
        "version": 3
      },
      "file_extension": ".py",
      "mimetype": "text/x-python",
      "name": "python",
      "nbconvert_exporter": "python",
      "pygments_lexer": "ipython3",
      "version": "3.8.8"
    },
    "colab": {
      "name": "Copy of Partie1.ipynb",
      "provenance": [],
      "collapsed_sections": [
        "6989b221",
        "7b736a12",
        "23848038",
        "070f8ca0",
        "5c5a0fba",
        "9f0d2b91",
        "e48ec782",
        "61ac6327",
        "b7fa89ef",
        "4cfb9a82"
      ],
      "include_colab_link": true
    },
    "accelerator": "GPU"
  },
  "nbformat": 4,
  "nbformat_minor": 5
}